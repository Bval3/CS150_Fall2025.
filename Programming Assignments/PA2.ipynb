{
 "cells": [
  {
   "cell_type": "markdown",
   "id": "96755fd9-d580-4b9b-bed6-9e28e90092da",
   "metadata": {},
   "source": [
    "# Programming assignment 2 \n",
    "## Benjamin Valenzuela \n",
    "## Fall 2025"
   ]
  },
  {
   "cell_type": "markdown",
   "id": "58ffb1ab-8525-4499-a625-e8d391de3e24",
   "metadata": {},
   "source": [
    "### Task 1 : Personal Information\n",
    "- Create variables to store your name, age, height, and favorite color.  \n",
    "- Print a message containing your personal information."
   ]
  },
  {
   "cell_type": "code",
   "execution_count": 38,
   "id": "a3859e47-39ed-4f21-8170-4c3bcbc6cc4a",
   "metadata": {},
   "outputs": [
    {
     "name": "stdout",
     "output_type": "stream",
     "text": [
      "Hello, my name is Ben. I am 20 years old, I am 170 cm tall, and my favorite color is blue.\n"
     ]
    }
   ],
   "source": [
    "n = \"Ben\"\n",
    "a = 20\n",
    "h = 170\n",
    "fc = \"blue\" \n",
    "\n",
    "print(\"Hello, my name is \"+n+\". I am \"+str(a)+\" years old, I am \"+str(h)+\" cm tall, and my favorite color is \"+fc+\".\")\n",
    "\n"
   ]
  },
  {
   "cell_type": "markdown",
   "id": "03e38731-b98c-44d0-a145-94b8801dbded",
   "metadata": {},
   "source": [
    "### Task 2 : Distance Conversion\n",
    "- Create a variable miles_distance and assign a distance in miles to it. \n",
    "- Convert the distance from miles to kilometers using an appropriate mathematical formula."
   ]
  },
  {
   "cell_type": "code",
   "execution_count": 39,
   "id": "3e782bc5-0fce-4ec2-a59d-1b7e470d2403",
   "metadata": {},
   "outputs": [
    {
     "name": "stdout",
     "output_type": "stream",
     "text": [
      "The distance is 5 miles, which is the equivalent of 8.0467 kilometers.\n"
     ]
    }
   ],
   "source": [
    "miles_distance = 5\n",
    "kilometers = miles_distance * 1.60934\n",
    "print(\"The distance is \"+str(miles_distance)+\" miles, which is the equivalent of \"+str(kilometers)+\" kilometers.\")"
   ]
  },
  {
   "cell_type": "markdown",
   "id": "5abbab17-473a-4138-9a4a-d48433fc1474",
   "metadata": {},
   "source": [
    "### Task 3 : Working With Running Times\n",
    "- Create variables run1 and run2 and assign them numeric values (time in minutes). Print the results of the following operations:\n",
    "    - Add both run times to get the total time spent running.\n",
    "    - Subtract run2 from run1 to see the improvement.\n",
    "    - Multiply run2 by 2 to simulate doing run2 twice.\n",
    "    - Calculate the average of both runs. "
   ]
  },
  {
   "cell_type": "code",
   "execution_count": 40,
   "id": "da9dd9df-40f4-4fbb-a83f-9f5cb0191dfc",
   "metadata": {},
   "outputs": [
    {
     "name": "stdout",
     "output_type": "stream",
     "text": [
      "Total time spent running:55 minutes.\n",
      "Improvement:15 minutes.\n",
      "Time to do run2 twice:40 minutes.\n",
      "Average:27.5 minutes.\n"
     ]
    }
   ],
   "source": [
    "run1 = 35\n",
    "run2 = 20\n",
    "total = run1 + run2\n",
    "improv = run1 - run2\n",
    "dotwice = run2*2\n",
    "avg = (run1 + run2)/2\n",
    "print(\"Total time spent running:\"+str(total)+\" minutes.\\nImprovement:\"+str(improv)+\" minutes.\\nTime to do run2 twice:\"+str\n",
    "    (dotwice)+\" minutes.\\nAverage:\"+str(avg)+\" minutes.\")"
   ]
  },
  {
   "cell_type": "markdown",
   "id": "b4ee7225-fb29-47eb-8432-6a151ab52cbf",
   "metadata": {},
   "source": [
    "### Task 4 : String Manipulation\n",
    "- Create a variable quote and assign a famous quote to it.  \n",
    "- Print the length of the quote.  \n",
    "- Print the quote in uppercase and lowercase.  \n",
    "- Print the quote with any leading/trailing whitespace removed.  \n",
    "- Print the quote split into a list of words."
   ]
  },
  {
   "cell_type": "code",
   "execution_count": 41,
   "id": "8b3f62b0-0f2d-4464-b416-9214ddf28a42",
   "metadata": {},
   "outputs": [
    {
     "name": "stdout",
     "output_type": "stream",
     "text": [
      "Quote length: 70\n",
      "Quote in uppercase:  ANY SUFFICIENTLY ADVANCED TECHNOLOGY IS INDISTINGUISHABLE FROM MAGIC \n",
      "Quote in lowercase:  any sufficiently advanced technology is indistinguishable from magic \n",
      "Quote without leading/trailing whitespace:Any sufficiently advanced technology is indistinguishable from magic\n",
      "Quote split into a list of words:  ['Any', 'sufficiently', 'advanced', 'technology', 'is', 'indistinguishable', 'from', 'magic']\n"
     ]
    }
   ],
   "source": [
    "Quote = \" Any sufficiently advanced technology is indistinguishable from magic \"\n",
    "print(\"Quote length: \"+str(len(Quote)))\n",
    "print(\"Quote in uppercase: \"+str(Quote.upper()))\n",
    "print(\"Quote in lowercase: \"+str(Quote.lower()))\n",
    "print(\"Quote without leading/trailing whitespace:\"+Quote.strip())\n",
    "print(\"Quote split into a list of words: \",Quote.split())"
   ]
  },
  {
   "cell_type": "markdown",
   "id": "7f786551-53fb-4792-a866-f0e0a1b0dda3",
   "metadata": {},
   "source": [
    "### Task 5 : User Input and Operations\n",
    "- Calculate the hypoteneuse from two given sides of a triangle using the pythagorean theorem.\n",
    "    - Prompt a user to enter the lengths of the  two legs.  \n",
    "    - Use the formula for the Pythagorean theorem to compute the hypotenuse.  \n",
    "    - Print the following statement: “The hypotenuse of your triangle is <c> units.”\n"
   ]
  },
  {
   "cell_type": "code",
   "execution_count": 45,
   "id": "2defaf7e-531d-480d-a5ea-05e1591d24aa",
   "metadata": {},
   "outputs": [
    {
     "name": "stdin",
     "output_type": "stream",
     "text": [
      "Please give me side a:  5\n",
      "Now give me side b:  5\n"
     ]
    },
    {
     "name": "stdout",
     "output_type": "stream",
     "text": [
      "calculating..\n",
      "The hypotenuse of your triangle is 7.07 units.\n"
     ]
    }
   ],
   "source": [
    "import math\n",
    "A = int(input(\"Please give me side a: \"))\n",
    "B = int(input(\"Now give me side b: \"))\n",
    "print(\"calculating..\")\n",
    "C = math.sqrt(A**2 + B**2)\n",
    "print(f\"The hypotenuse of your triangle is {C:.2f} units.\")"
   ]
  },
  {
   "cell_type": "code",
   "execution_count": null,
   "id": "fba801b2-e23d-4de1-81a1-20b1dfa856ce",
   "metadata": {},
   "outputs": [],
   "source": []
  }
 ],
 "metadata": {
  "kernelspec": {
   "display_name": "Python 3 (ipykernel)",
   "language": "python",
   "name": "python3"
  },
  "language_info": {
   "codemirror_mode": {
    "name": "ipython",
    "version": 3
   },
   "file_extension": ".py",
   "mimetype": "text/x-python",
   "name": "python",
   "nbconvert_exporter": "python",
   "pygments_lexer": "ipython3",
   "version": "3.13.5"
  }
 },
 "nbformat": 4,
 "nbformat_minor": 5
}

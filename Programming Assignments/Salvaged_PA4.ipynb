{
 "cells": [
  {
   "cell_type": "markdown",
   "id": "aa159072-1ee8-40e4-95b3-979efa5091cf",
   "metadata": {},
   "source": [
    "# Programming Assignment 4\n",
    "## Benjamin Valenzuela\n",
    "## Fall 2025"
   ]
  },
  {
   "cell_type": "markdown",
   "id": "2d85bc31-0a8e-4046-9f52-6c50b5b91a78",
   "metadata": {},
   "source": [
    "### Task 1: Input Positive Integer and Factors"
   ]
  },
  {
   "cell_type": "code",
   "execution_count": 1,
   "id": "2d422163-c93b-4ca1-b20d-472d88324d70",
   "metadata": {},
   "outputs": [
    {
     "name": "stdin",
     "output_type": "stream",
     "text": [
      "Please input a positive integer:   5\n"
     ]
    },
    {
     "name": "stdout",
     "output_type": "stream",
     "text": [
      "1 is a factor of 5\n",
      "5 is a factor of 5\n"
     ]
    },
    {
     "name": "stdin",
     "output_type": "stream",
     "text": [
      "Please input a positive integer:  5\n"
     ]
    },
    {
     "name": "stdout",
     "output_type": "stream",
     "text": [
      "Your number is prime\n"
     ]
    }
   ],
   "source": [
    "num = int(input(\"Please input a positive integer:  \"))\n",
    "if num <= 0:\n",
    "    print(\"Not a positive integer\")\n",
    "else:\n",
    "    for i in range(1, num + 1):\n",
    "        if num % i == 0:\n",
    "            print(str(i) + \" is a factor of \" + str(num))\n",
    "\n",
    "num = int(input(\"Please input a positive integer: \"))\n",
    "if num <= 1:\n",
    "    print(\"Your number is not prime.\")\n",
    "else:\n",
    "    prime = True\n",
    "    for i in range(2, int(num ** 0.5) + 1):\n",
    "        if num % i == 0:\n",
    "            prime = False\n",
    "            break\n",
    "\n",
    "    if prime:\n",
    "        print(\"Your number is prime\")\n",
    "    else:\n",
    "        print(\"Your number is not prime.\")\n"
   ]
  },
  {
   "cell_type": "markdown",
   "id": "659f72bc-204f-4851-a3fd-f603c6ca3876",
   "metadata": {},
   "source": [
    "### Task 2: Language Translator"
   ]
  },
  {
   "cell_type": "code",
   "execution_count": 2,
   "id": "b4901f6a-40f9-4ca6-b146-824204671242",
   "metadata": {},
   "outputs": [
    {
     "name": "stdin",
     "output_type": "stream",
     "text": [
      "Enter a word to translate from English to Spanish (hit enter to stop):  gato\n"
     ]
    },
    {
     "name": "stdout",
     "output_type": "stream",
     "text": [
      "The Spanish word for gato is not in this dictionary.\n"
     ]
    },
    {
     "name": "stdin",
     "output_type": "stream",
     "text": [
      "Enter a word to translate from English to Spanish (hit enter to stop):  perro\n"
     ]
    },
    {
     "name": "stdout",
     "output_type": "stream",
     "text": [
      "The Spanish word for perro is not in this dictionary.\n"
     ]
    },
    {
     "name": "stdin",
     "output_type": "stream",
     "text": [
      "Enter a word to translate from English to Spanish (hit enter to stop):  dog\n"
     ]
    },
    {
     "name": "stdout",
     "output_type": "stream",
     "text": [
      "The Spanish word for dog is perro.\n"
     ]
    },
    {
     "name": "stdin",
     "output_type": "stream",
     "text": [
      "Enter a word to translate from English to Spanish (hit enter to stop):  cat\n"
     ]
    },
    {
     "name": "stdout",
     "output_type": "stream",
     "text": [
      "The Spanish word for cat is gato.\n"
     ]
    },
    {
     "name": "stdin",
     "output_type": "stream",
     "text": [
      "Enter a word to translate from English to Spanish (hit enter to stop):  \n"
     ]
    }
   ],
   "source": [
    "translator = {\n",
    "    \"hello\": \"hola\", \"goodbye\": \"adios\",\n",
    "    \"please\": \"por favor\", \"thank\": \"gracias\",\n",
    "    \"dog\": \"perro\", \"cat\": \"gato\", \"food\": \"comida\",\n",
    "    \"water\": \"agua\", \"book\": \"libro\", \"friend\": \"amigo\"\n",
    "}\n",
    "\n",
    "while True:\n",
    "    word = input(\"Enter a word to translate from English to Spanish (hit enter to stop): \").lower()\n",
    "    if word == \"\":\n",
    "        break\n",
    "    elif word in translator:\n",
    "        print(\"The Spanish word for \" + word + \" is \" + translator[word] + \".\")\n",
    "    else:\n",
    "        print(\"The Spanish word for \" + word + \" is not in this dictionary.\")"
   ]
  },
  {
   "cell_type": "markdown",
   "id": "4911b7d6-fe4f-47ba-b370-2f1553214ca4",
   "metadata": {},
   "source": [
    "### Task 3: Temperature Summaries"
   ]
  },
  {
   "cell_type": "code",
   "execution_count": 3,
   "id": "e0dbb412-b1b1-4d25-ad71-821f3935bf2f",
   "metadata": {},
   "outputs": [
    {
     "name": "stdin",
     "output_type": "stream",
     "text": [
      "Enter a month: I will give you the average high and low temperatures in Louisville:  January\n"
     ]
    },
    {
     "name": "stdout",
     "output_type": "stream",
     "text": [
      "The average high temperature in Louisville for January is 44 and the average low is 28.\n"
     ]
    },
    {
     "name": "stdin",
     "output_type": "stream",
     "text": [
      "Enter a month: I will give you the average high and low temperatures in Louisville:  March\n"
     ]
    },
    {
     "name": "stdout",
     "output_type": "stream",
     "text": [
      "The average high temperature in Louisville for March is 58 and the average low is 39.\n"
     ]
    },
    {
     "name": "stdin",
     "output_type": "stream",
     "text": [
      "Enter a month: I will give you the average high and low temperatures in Louisville:  April\n"
     ]
    },
    {
     "name": "stdout",
     "output_type": "stream",
     "text": [
      "The average high temperature in Louisville for April is 70 and the average low is 49.\n"
     ]
    },
    {
     "name": "stdin",
     "output_type": "stream",
     "text": [
      "Enter a month: I will give you the average high and low temperatures in Louisville:  \n"
     ]
    },
    {
     "name": "stdout",
     "output_type": "stream",
     "text": [
      "Not a valid month.\n"
     ]
    },
    {
     "name": "stdin",
     "output_type": "stream",
     "text": [
      "Enter a month: I will give you the average high and low temperatures in Louisville:  quit\n"
     ]
    }
   ],
   "source": [
    "temps = {\n",
    "    \"january\": [44, 28], \"february\": [48, 31], \"march\": [58, 39],\n",
    "    \"april\": [70, 49], \"may\": [78, 59], \"june\": [86, 67],\n",
    "    \"july\": [89, 71], \"august\": [88, 69], \"september\": [82, 62],\n",
    "    \"october\": [71, 50], \"november\": [58, 39], \"december\": [47, 32]\n",
    "}\n",
    "\n",
    "while True:\n",
    "    month = input(\"Enter a month: I will give you the average high and low temperatures in Louisville: \").lower()\n",
    "    if month == \"quit\":\n",
    "        break\n",
    "    elif month in temps:\n",
    "        print(\"The average high temperature in Louisville for \" + month.capitalize() + \" is \" +\n",
    "              str(temps[month][0]) + \" and the average low is \" + str(temps[month][1]) + \".\")\n",
    "    else:\n",
    "        print(\"Not a valid month.\")"
   ]
  },
  {
   "cell_type": "markdown",
   "id": "5646921c-dfb1-4344-816b-c54bb98ce66e",
   "metadata": {},
   "source": [
    "### Task 4: Inventory Dictionary and Prices"
   ]
  },
  {
   "cell_type": "code",
   "execution_count": 4,
   "id": "4a358112-f03b-41ef-8025-d349ce0e835e",
   "metadata": {},
   "outputs": [
    {
     "name": "stdout",
     "output_type": "stream",
     "text": [
      "Menu:\n",
      "1. Look up item by name\n",
      "2. Show all items below a certain price\n",
      "3. Total quantity of all items\n",
      "4. Total price of all items\n",
      "5. Quit\n"
     ]
    },
    {
     "name": "stdin",
     "output_type": "stream",
     "text": [
      "\n",
      "Enter your menu choice (1-5):  1\n",
      "Enter item name:  screwdriver\n"
     ]
    },
    {
     "name": "stdout",
     "output_type": "stream",
     "text": [
      "There are 40 item(s) available at $3.99 each.\n"
     ]
    },
    {
     "name": "stdin",
     "output_type": "stream",
     "text": [
      "\n",
      "Enter your menu choice (1-5):  2\n",
      "Enter your maximum budget:  4.99\n"
     ]
    },
    {
     "name": "stdout",
     "output_type": "stream",
     "text": [
      "Items under $4.99:\n",
      "screwdriver: $3.99\n",
      "roll_of_duct_tape: $4.95\n"
     ]
    },
    {
     "name": "stdin",
     "output_type": "stream",
     "text": [
      "\n",
      "Enter your menu choice (1-5):  3\n"
     ]
    },
    {
     "name": "stdout",
     "output_type": "stream",
     "text": [
      "Total quantity of all items: 140\n"
     ]
    },
    {
     "name": "stdin",
     "output_type": "stream",
     "text": [
      "\n",
      "Enter your menu choice (1-5):  4\n"
     ]
    },
    {
     "name": "stdout",
     "output_type": "stream",
     "text": [
      "Total value of all items: $1170.9\n"
     ]
    },
    {
     "name": "stdin",
     "output_type": "stream",
     "text": [
      "\n",
      "Enter your menu choice (1-5):  5\n"
     ]
    }
   ],
   "source": [
    "inventory = {\n",
    "    \"hammer\": [15, 12.49],\n",
    "    \"wrench\": [20, 7.99],\n",
    "    \"screwdriver\": [40, 3.99],\n",
    "    \"nailgun\": [10, 36.59],\n",
    "    \"padlock\": [25, 5.99],\n",
    "    \"roll_of_duct_tape\": [30, 4.95]\n",
    "}\n",
    "\n",
    "print(\"Menu:\")\n",
    "print(\"1. Look up item by name\")\n",
    "print(\"2. Show all items below a certain price\")\n",
    "print(\"3. Total quantity of all items\")\n",
    "print(\"4. Total price of all items\")\n",
    "print(\"5. Quit\")\n",
    "\n",
    "while True:\n",
    "    choice = input(\"\\nEnter your menu choice (1-5): \")\n",
    "\n",
    "    if choice == \"1\":\n",
    "        item = input(\"Enter item name: \").lower()\n",
    "        if item in inventory:\n",
    "            qty, pr = inventory[item]\n",
    "            print(\"There are \" + str(qty) + \" item(s) available at $\" + str(pr) + \" each.\")\n",
    "        else:\n",
    "            print(\"Item not available.\")\n",
    "    elif choice == \"2\":\n",
    "        budget = float(input(\"Enter your maximum budget: \"))\n",
    "        print(\"Items under $\" + str(budget) + \":\")\n",
    "        for item, value in inventory.items():\n",
    "            if value[1] < budget:\n",
    "                print(item + \": $\" + str(value[1]))\n",
    "    elif choice == \"3\":\n",
    "        totalq = sum(value[0] for value in inventory.values())\n",
    "        print(\"Total quantity of all items: \" + str(totalq))\n",
    "    elif choice == \"4\":\n",
    "        totalv = sum(value[0] * value[1] for value in inventory.values())\n",
    "        print(\"Total value of all items: $\" + str(totalv))\n",
    "    elif choice == \"5\":\n",
    "        break\n",
    "    else:\n",
    "        print(\"Invalid choice, try again.\")"
   ]
  },
  {
   "cell_type": "code",
   "execution_count": null,
   "id": "bcd20653-de36-4d91-b256-6cffa1fed12e",
   "metadata": {},
   "outputs": [],
   "source": []
  }
 ],
 "metadata": {
  "kernelspec": {
   "display_name": "Python 3 (ipykernel)",
   "language": "python",
   "name": "python3"
  },
  "language_info": {
   "codemirror_mode": {
    "name": "ipython",
    "version": 3
   },
   "file_extension": ".py",
   "mimetype": "text/x-python",
   "name": "python",
   "nbconvert_exporter": "python",
   "pygments_lexer": "ipython3",
   "version": "3.13.5"
  }
 },
 "nbformat": 4,
 "nbformat_minor": 5
}

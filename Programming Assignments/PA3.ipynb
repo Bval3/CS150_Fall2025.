{
 "cells": [
  {
   "cell_type": "markdown",
   "id": "de6529c5-4c4f-4ac9-a4fd-bd92b56bf36f",
   "metadata": {},
   "source": [
    "# Programming assignment 3\n",
    "## Benjamin Valenzuela \n",
    "## Fall 2025"
   ]
  },
  {
   "cell_type": "markdown",
   "id": "0e171414-0609-4953-bcb5-9405a1dc53ad",
   "metadata": {},
   "source": [
    "### Task 1 : Types of Triangles"
   ]
  },
  {
   "cell_type": "code",
   "execution_count": 3,
   "id": "3c4c3570-4c62-4251-a0f9-8860f3b36503",
   "metadata": {},
   "outputs": [
    {
     "name": "stdin",
     "output_type": "stream",
     "text": [
      "Please give me the first side of your triangle 2\n",
      "Please give me the second side of your triangle 2\n",
      "Please give me the third side of your triangle 2\n"
     ]
    },
    {
     "name": "stdout",
     "output_type": "stream",
     "text": [
      "Thanks, calculating...\n",
      "you have an equilateral triangle!\n"
     ]
    }
   ],
   "source": [
    "a = input (\"Please give me the first side of your triangle\")\n",
    "b = input (\"Please give me the second side of your triangle\") \n",
    "c = input(\"Please give me the third side of your triangle\")\n",
    "\n",
    "print(\"Thanks, thinking...\")\n",
    "\n",
    "if (a == b and b == c):\n",
    "    print(\"you have an equilateral triangle!\")\n",
    "elif(a == b and b!=c or a==c and c!=b):\n",
    "    print(\"you have an isosceles triangle!\")\n",
    "else:\n",
    "    print(\"you have a scalene triangle!\")"
   ]
  },
  {
   "cell_type": "markdown",
   "id": "067b8105-d02a-43f9-9b27-2672c14a62f7",
   "metadata": {},
   "source": [
    "### Task 2 : Student Grades and At-Risk Status "
   ]
  },
  {
   "cell_type": "code",
   "execution_count": 9,
   "id": "19a80309-0a48-4e97-b714-4674e2192e5e",
   "metadata": {},
   "outputs": [
    {
     "name": "stdin",
     "output_type": "stream",
     "text": [
      "Please input your grade average 92\n",
      "Please input your grade average 91\n",
      "Please input your grade average 94\n",
      "Please input your grade average 93\n",
      "Please input your grade average 19\n"
     ]
    },
    {
     "name": "stdout",
     "output_type": "stream",
     "text": [
      "Average of grades: 77.8\n",
      "Lowest grade in the class: 19.0\n",
      "Highest grade in the class: 94.0\n",
      "Number of students at risk of failure: 1\n"
     ]
    }
   ],
   "source": [
    "student_grades = []\n",
    "for i in range(5):\n",
    "    student_grades.append(float(input(\"Please input your grade average\")))\n",
    "student_grades.sort()\n",
    "avg = sum(student_grades)/len(student_grades)\n",
    "print(\"Average of grades: \"+str(avg))\n",
    "print(\"Lowest grade in the class: \"+str(student_grades[0]))\n",
    "print(\"Highest grade in the class: \"+str(student_grades[-1]))\n",
    "\n",
    "c = 0\n",
    "for item in student_grades:\n",
    "    if item < 65.0:\n",
    "        c+=1 \n",
    "print(\"Number of students at risk of failure: \"+str(c))\n"
   ]
  },
  {
   "cell_type": "markdown",
   "id": "a28a8985-faca-405a-8b25-695f463d620f",
   "metadata": {},
   "source": [
    "### Task 3 : Ranges and Multiples"
   ]
  },
  {
   "cell_type": "code",
   "execution_count": 30,
   "id": "988d2403-f8d2-45eb-bc77-7fdee7039ce9",
   "metadata": {},
   "outputs": [],
   "source": [
    "c = 0\n",
    "mult_of_2 = []\n",
    "mult_of_3 = []\n",
    "mult_of_either = []\n",
    "mult_of_both = []\n",
    "for i in range (100):\n",
    "    c += 2\n",
    "    if (c >= 100 ):\n",
    "        c = 0\n",
    "        break\n",
    "    else:\n",
    "        mult_of_2.append(c)\n",
    "for i in range (100):\n",
    "    c += 3\n",
    "    if (c >= 100 ):\n",
    "        c = 0\n",
    "        break\n",
    "    else:\n",
    "        mult_of_3.append(c)\n",
    "for item in mult_of_2:\n",
    "    if item in mult_of_3:\n",
    "        mult_of_either.append(item)\n",
    "\n",
    "mult_of_both = mult_of_2\n",
    "\n",
    "i = 0\n",
    "for item in mult_of_3:\n",
    "    if item > mult_of_2[i]:\n",
    "        mult_of_both.insert(i+1, item)\n",
    "    else:\n",
    "        mult_of_both[i] = item\n",
    "    i+=1"
   ]
  },
  {
   "cell_type": "markdown",
   "id": "3fd3568b-6748-48b3-81d6-aa104c5e5ecc",
   "metadata": {},
   "source": [
    "### Task 4 : Shopping List"
   ]
  },
  {
   "cell_type": "code",
   "execution_count": 4,
   "id": "1f7bdbe9-88c4-4d0c-b90e-4ed5f428b021",
   "metadata": {
    "scrolled": true
   },
   "outputs": [
    {
     "name": "stdin",
     "output_type": "stream",
     "text": [
      "Tell me the items on your shopping list one at a time (Type Done to stop). apples\n",
      "Tell me the items on your shopping list one at a time (Type Done to stop). oranges\n",
      "Tell me the items on your shopping list one at a time (Type Done to stop). oranges\n",
      "Tell me the items on your shopping list one at a time (Type Done to stop). oranges\n",
      "Tell me the items on your shopping list one at a time (Type Done to stop). apples\n",
      "Tell me the items on your shopping list one at a time (Type Done to stop). aplles\n",
      "Tell me the items on your shopping list one at a time (Type Done to stop). apples\n"
     ]
    },
    {
     "name": "stdout",
     "output_type": "stream",
     "text": [
      "Items on your list: 7\n",
      "Your items in reverse order: \n",
      "apples aplles apples oranges oranges oranges apples \n",
      "\n",
      "Your items sorted in alphabetical order: \n",
      "aplles apples apples apples oranges oranges oranges \n",
      "\n",
      "The following item appears 3 times in your list: apples\n",
      "The following item appears 3 times in your list: oranges\n"
     ]
    }
   ],
   "source": [
    "i = 0 \n",
    "shopping_list = []\n",
    "Done = False\n",
    "while i < 7 and not Done:\n",
    "    inp = input(\"Tell me the items on your shopping list one at a time (Type Done to stop).\")\n",
    "    if inp.lower() == \"done\" :\n",
    "        break\n",
    "    elif inp == \"\" or inp == \" \":\n",
    "        continue\n",
    "    else: \n",
    "        shopping_list.append(inp)\n",
    "        i+=1\n",
    "\n",
    "print(\"Items on your list: \"+str(len(shopping_list)))\n",
    "print(\"Your items in reverse order: \")\n",
    "i = len(shopping_list)-1\n",
    "while (i >= 0):\n",
    "    print(shopping_list[i], end =\" \")\n",
    "    i -=1\n",
    "        \n",
    "print(\"\\n\")\n",
    "\n",
    "for i in range(len(shopping_list)):\n",
    "    for j in range(i + 1, len(shopping_list)):\n",
    "        if shopping_list[i] > shopping_list[j]:\n",
    "            shopping_list[i], shopping_list[j] = shopping_list[j], shopping_list[i] #Had to look this kind of swap assignment up on google\n",
    "            \n",
    "print(\"Your items sorted in alphabetical order: \")\n",
    "i = 0\n",
    "while i < len(shopping_list):\n",
    "    print(shopping_list[i], end =\" \")\n",
    "    i+=1\n",
    "print(\"\\n\")\n",
    "\n",
    "dupl = shopping_list.copy()\n",
    "for i in range(len(dupl)):\n",
    "    count = 1\n",
    "    for j in range(i + 1, len(dupl)):\n",
    "        if dupl[i] == dupl[j]:\n",
    "            count += 1\n",
    "            dupl[j] = \" \"\n",
    "    if count >= 2 and dupl[i] != \" \":\n",
    "        print(\"The following item appears \"+str(count)+\" times in your list: \"+dupl[i])"
   ]
  }
 ],
 "metadata": {
  "kernelspec": {
   "display_name": "Python 3 (ipykernel)",
   "language": "python",
   "name": "python3"
  },
  "language_info": {
   "codemirror_mode": {
    "name": "ipython",
    "version": 3
   },
   "file_extension": ".py",
   "mimetype": "text/x-python",
   "name": "python",
   "nbconvert_exporter": "python",
   "pygments_lexer": "ipython3",
   "version": "3.13.5"
  }
 },
 "nbformat": 4,
 "nbformat_minor": 5
}

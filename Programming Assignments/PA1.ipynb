{
 "cells": [
  {
   "cell_type": "markdown",
   "id": "793d5af9-348d-4f11-932c-ac2aa6674ac8",
   "metadata": {},
   "source": [
    "# Benjamin Valenzuela - Markdown Practice"
   ]
  },
  {
   "cell_type": "markdown",
   "id": "84327997-76ec-4078-9f18-345a50570e15",
   "metadata": {},
   "source": [
    "### Introduction\n",
    "Hi, my name is Benjamin Valenzuela. I want to code because I envision a future where technology makes the lives of humans easier, and I believe that coding is the vehicle by which I and other programmers can realize that future. "
   ]
  },
  {
   "cell_type": "markdown",
   "id": "844c9d2d-7e93-4663-a936-e994e8cd0a76",
   "metadata": {},
   "source": [
    "### Course Schedule\n",
    "- 8/21 – 8/22: Module 1: Course Introduction (Chapter 1)  \n",
    "- 8/25 – 8/29: Variables and Simple Data Types (Chapter 2), GitHub Discussion  \n",
    "- 9/1 – 9/5: Module 2: Lists and Tuples Part 1 (Chapter 3)  \n",
    "- 9/8 – 9/12: Module 2: Lists and Tuples Part 1 (Chapter 3) Continued  \n",
    "- 9/15 – 9/19: Module 3: If Statements (Chapter 5)  \n",
    "- 9/22 – 9/26: Module 4: Loops (Chapter 7)  \n",
    "- 9/29 – 10/3: Module 5: Lists and Tuples Part 2 (Chapter 4)  \n",
    "- 10/13 – 10/17: Module 6: Dictionaries (Chapter 6)  \n",
    "- 10/20 – 10/24: Module 7: Sets, Functions, Libraries (Chapter 8)  \n",
    "- 10/27 – 10/31: Module 8: Class Datatypes and Exceptions (Chapters 9–10)  \n",
    "- 11/3 – 11/7: Module 9: NumPy Arrays (Supplemental)  \n",
    "- 11/10 – 11/14: Module 10: Pandas and Files Excerpt (Supplemental, Chapter 10)   "
   ]
  },
  {
   "cell_type": "markdown",
   "id": "33221c9f-43ea-4cf7-bed7-71b40f7eee07",
   "metadata": {},
   "source": [
    "The primary language of this course is **Python**"
   ]
  },
  {
   "cell_type": "markdown",
   "id": "8e264c48-0043-4f76-93ca-7d9b105432c4",
   "metadata": {},
   "source": [
    "This .ipynb was made in *Anaconda's Jupyter Notebook*"
   ]
  },
  {
   "cell_type": "markdown",
   "id": "4db1ac20-bb83-433d-af41-df6e9a8cac6b",
   "metadata": {},
   "source": [
    "Today I walked to the gym and `lifted some weights`"
   ]
  },
  {
   "cell_type": "markdown",
   "id": "34c08644-483e-468b-80cf-dcfd66114de1",
   "metadata": {},
   "source": [
    "[Github Profile](https://github.com/Bval3)"
   ]
  },
  {
   "cell_type": "markdown",
   "id": "5eb3cbe4-47bd-412a-8d9e-02c28b6960d7",
   "metadata": {},
   "source": [
    "![University Logo](https://upload.wikimedia.org/wikipedia/en/8/8c/Seal-bellarmine.png)\n"
   ]
  },
  {
   "cell_type": "markdown",
   "id": "9f34f3ac-3039-4e63-9d0e-94e31cbcd248",
   "metadata": {},
   "source": [
    "In this assignment I learned markdown language syntax, header formatting, paragraph formatting, special text, and hyperlink and image link usage"
   ]
  },
  {
   "cell_type": "code",
   "execution_count": null,
   "id": "8b6bbb22-b3b1-4d83-a9dc-c333f4dd5156",
   "metadata": {},
   "outputs": [],
   "source": []
  }
 ],
 "metadata": {
  "kernelspec": {
   "display_name": "Python 3 (ipykernel)",
   "language": "python",
   "name": "python3"
  },
  "language_info": {
   "codemirror_mode": {
    "name": "ipython",
    "version": 3
   },
   "file_extension": ".py",
   "mimetype": "text/x-python",
   "name": "python",
   "nbconvert_exporter": "python",
   "pygments_lexer": "ipython3",
   "version": "3.13.5"
  }
 },
 "nbformat": 4,
 "nbformat_minor": 5
}
